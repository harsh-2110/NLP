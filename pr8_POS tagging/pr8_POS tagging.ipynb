{
 "cells": [
  {
   "cell_type": "code",
   "execution_count": 4,
   "id": "435341ee",
   "metadata": {},
   "outputs": [
    {
     "name": "stderr",
     "output_type": "stream",
     "text": [
      "[nltk_data] Downloading package averaged_perceptron_tagger to\n",
      "[nltk_data]     C:\\Users\\Harsh123\\AppData\\Roaming\\nltk_data...\n",
      "[nltk_data]   Unzipping taggers\\averaged_perceptron_tagger.zip.\n",
      "[nltk_data] Downloading package inaugural to\n",
      "[nltk_data]     C:\\Users\\Harsh123\\AppData\\Roaming\\nltk_data...\n",
      "[nltk_data]   Unzipping corpora\\inaugural.zip.\n"
     ]
    }
   ],
   "source": [
    "#using the text from the US Presidential Inaugaral speeches.import nltk\n",
    "import nltk\n",
    "nltk.download('averaged_perceptron_tagger')\n",
    "from nltk.tag import pos_tag\n",
    "nltk.download('inaugural')\n",
    "from nltk.corpus import inaugural"
   ]
  },
  {
   "cell_type": "code",
   "execution_count": 6,
   "id": "e08538e2",
   "metadata": {},
   "outputs": [
    {
     "name": "stdout",
     "output_type": "stream",
     "text": [
      "['Fellow', '-', 'Citizens', 'of', 'the', 'Senate', ...]\n"
     ]
    }
   ],
   "source": [
    "#calling the words() method to retrieve the tokenised text of all speeches.\n",
    "inaugural_tokens=inaugural.words()\n",
    "print(inaugural_tokens)"
   ]
  },
  {
   "cell_type": "code",
   "execution_count": 8,
   "id": "4a9b225c",
   "metadata": {},
   "outputs": [
    {
     "data": {
      "text/plain": [
       "[('Fellow', 'NNP'),\n",
       " ('-', ':'),\n",
       " ('Citizens', 'NNS'),\n",
       " ('of', 'IN'),\n",
       " ('the', 'DT'),\n",
       " ('Senate', 'NNP'),\n",
       " ('and', 'CC'),\n",
       " ('of', 'IN'),\n",
       " ('the', 'DT'),\n",
       " ('House', 'NNP'),\n",
       " ('of', 'IN'),\n",
       " ('Representatives', 'NNPS'),\n",
       " (':', ':'),\n",
       " ('Among', 'IN'),\n",
       " ('the', 'DT'),\n",
       " ('vicissitudes', 'NNS'),\n",
       " ('incident', 'NN'),\n",
       " ('to', 'TO'),\n",
       " ('life', 'NN'),\n",
       " ('no', 'DT')]"
      ]
     },
     "execution_count": 8,
     "metadata": {},
     "output_type": "execute_result"
    }
   ],
   "source": [
    "#assigning POS-tags to all speeches using NLTK’s pos_tag() \n",
    "tagged_inaugural_tokens = nltk.pos_tag(inaugural_tokens)\n",
    "tagged_inaugural_tokens[:20]"
   ]
  },
  {
   "cell_type": "code",
   "execution_count": 10,
   "id": "777063f6",
   "metadata": {},
   "outputs": [
    {
     "data": {
      "text/plain": [
       "['Citizens',\n",
       " 'vicissitudes',\n",
       " 'incident',\n",
       " 'life',\n",
       " 'event',\n",
       " 'anxieties',\n",
       " 'notification',\n",
       " 'order',\n",
       " 'day',\n",
       " 'month',\n",
       " 'hand',\n",
       " 'Country',\n",
       " 'voice',\n",
       " 'veneration',\n",
       " 'love',\n",
       " 'retreat',\n",
       " 'predilection',\n",
       " 'flattering',\n",
       " 'hopes',\n",
       " 'decision']"
      ]
     },
     "execution_count": 10,
     "metadata": {},
     "output_type": "execute_result"
    }
   ],
   "source": [
    "#setting up list to hold specific part of speech such as nouns\n",
    "nouns = [] \n",
    "nouns = [word for (word, pos) in tagged_inaugural_tokens if (pos == 'NN' or pos == 'NNS')] \n",
    "nouns[:20]"
   ]
  },
  {
   "cell_type": "code",
   "execution_count": 11,
   "id": "ebbc70fc",
   "metadata": {},
   "outputs": [
    {
     "data": {
      "text/plain": [
       "['the',\n",
       " 'the',\n",
       " 'the',\n",
       " 'no',\n",
       " 'that',\n",
       " 'the',\n",
       " 'the',\n",
       " 'the',\n",
       " 'the',\n",
       " 'a',\n",
       " 'the',\n",
       " 'an',\n",
       " 'the',\n",
       " 'a',\n",
       " 'every',\n",
       " 'the',\n",
       " 'the',\n",
       " 'the',\n",
       " 'the',\n",
       " 'the']"
      ]
     },
     "execution_count": 11,
     "metadata": {},
     "output_type": "execute_result"
    }
   ],
   "source": [
    "#setting up list to hold Determiner\n",
    "Determiners = [] \n",
    "Determiners = [word for (word, pos) in tagged_inaugural_tokens if (pos == 'DT')] \n",
    "Determiners[:20]"
   ]
  }
 ],
 "metadata": {
  "kernelspec": {
   "display_name": "Python 3",
   "language": "python",
   "name": "python3"
  },
  "language_info": {
   "codemirror_mode": {
    "name": "ipython",
    "version": 3
   },
   "file_extension": ".py",
   "mimetype": "text/x-python",
   "name": "python",
   "nbconvert_exporter": "python",
   "pygments_lexer": "ipython3",
   "version": "3.8.8"
  }
 },
 "nbformat": 4,
 "nbformat_minor": 5
}
