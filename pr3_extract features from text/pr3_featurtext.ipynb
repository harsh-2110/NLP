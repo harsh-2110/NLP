{
 "cells": [
  {
   "cell_type": "code",
   "execution_count": 2,
   "id": "39ca4f4a",
   "metadata": {},
   "outputs": [
    {
     "data": {
      "text/plain": [
       "['crcket', 'good', 'interested', 'player', 'sentence', 'sports', 'unique']"
      ]
     },
     "execution_count": 2,
     "metadata": {},
     "output_type": "execute_result"
    }
   ],
   "source": [
    "import sklearn\n",
    "from sklearn.feature_extraction.text import CountVectorizer\n",
    "\n",
    "# Sample sentences.\n",
    "sentences = [\n",
    "    \"This is a unique sentence\",\n",
    "    \"I am interested in sports,which?\",\n",
    "    \"Are you a good player in crcket?\"\n",
    "]\n",
    "\n",
    "# Create CountVectorizer, which create bag-of-words model.\n",
    "# stop_words : Specify language to remove stopwords. \n",
    "vectorizer = CountVectorizer(stop_words='english')\n",
    "\n",
    "# Learn vocabulary in sentences. \n",
    "vectorizer.fit(sentences)\n",
    "\n",
    "# Get dictionary. \n",
    "vectorizer.get_feature_names()"
   ]
  },
  {
   "cell_type": "code",
   "execution_count": 4,
   "id": "f06900f6",
   "metadata": {},
   "outputs": [
    {
     "data": {
      "text/plain": [
       "array([[0, 0, 0, 0, 1, 0, 1],\n",
       "       [0, 0, 1, 0, 0, 1, 0],\n",
       "       [1, 1, 0, 1, 0, 0, 0]], dtype=int64)"
      ]
     },
     "execution_count": 4,
     "metadata": {},
     "output_type": "execute_result"
    }
   ],
   "source": [
    "vector = vectorizer.transform(sentences)\n",
    "vector_spaces = vector.toarray()\n",
    "\n",
    "vector_spaces"
   ]
  },
  {
   "cell_type": "code",
   "execution_count": 7,
   "id": "fb1c5c88",
   "metadata": {},
   "outputs": [
    {
     "name": "stdout",
     "output_type": "stream",
     "text": [
      "This is a unique sentence\n",
      "[0 0 0 0 1 0 1]\n",
      "I am interested in sports,which?\n",
      "[0 0 1 0 0 1 0]\n",
      "Are you a good player in crcket?\n",
      "[1 1 0 1 0 0 0]\n"
     ]
    }
   ],
   "source": [
    "for i, v in zip(sentences, vector_spaces):\n",
    "    print(i)\n",
    "    print(v)\n"
   ]
  }
 ],
 "metadata": {
  "kernelspec": {
   "display_name": "Python 3",
   "language": "python",
   "name": "python3"
  },
  "language_info": {
   "codemirror_mode": {
    "name": "ipython",
    "version": 3
   },
   "file_extension": ".py",
   "mimetype": "text/x-python",
   "name": "python",
   "nbconvert_exporter": "python",
   "pygments_lexer": "ipython3",
   "version": "3.8.8"
  }
 },
 "nbformat": 4,
 "nbformat_minor": 5
}
