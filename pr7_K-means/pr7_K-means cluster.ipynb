{
 "cells": [
  {
   "cell_type": "code",
   "execution_count": 2,
   "id": "d6a446f5",
   "metadata": {},
   "outputs": [],
   "source": [
    "from sklearn.feature_extraction.text import TfidfVectorizer\n",
    "from sklearn.cluster import KMeans"
   ]
  },
  {
   "cell_type": "code",
   "execution_count": 4,
   "id": "75619d01",
   "metadata": {},
   "outputs": [],
   "source": [
    "documents = [\"the young french men crowned world champions\",\n",
    "             \"Google Translate app is getting more intelligent everyday\",\n",
    "             \"Facebook face recognition is driving me crazy\",\n",
    "             \"Croacian team made a brilliant world cup campaign reaching the final match\",\n",
    "             \"Social Media apps leveraging AI incredibly\",\n",
    "             \"virat is the best batsman in the world of cricket\"]\n",
    " "
   ]
  },
  {
   "cell_type": "code",
   "execution_count": 5,
   "id": "4e082d0e",
   "metadata": {},
   "outputs": [
    {
     "name": "stdout",
     "output_type": "stream",
     "text": [
      "Cluster 0: crazy driving face recognition facebook ai leveraging everyday getting google\n",
      "\n",
      "Cluster 1: world virat batsman best cricket young french champions men crowned\n",
      "\n",
      "\n",
      "[0]\n",
      "[1]\n"
     ]
    }
   ],
   "source": [
    "vectorizer = TfidfVectorizer(stop_words = 'english')\n",
    "data = vectorizer.fit_transform(documents)\n",
    " \n",
    "true_k = 2\n",
    "clustering_model = KMeans(n_clusters = true_k, \n",
    "                          init = 'k-means++',\n",
    "                          max_iter = 300, n_init = 10)\n",
    "clustering_model.fit(data)\n",
    "## terms per cluster\n",
    "\n",
    "sorted_centroids = clustering_model.cluster_centers_.argsort()[:, ::-1]\n",
    "terms = vectorizer.get_feature_names()\n",
    "\n",
    "for i in range(true_k):\n",
    "        print(\"Cluster %d:\" % i, end='')\n",
    "        for ind in sorted_centroids[i, :10]:\n",
    "            print(' %s' % terms[ind], end='')\n",
    "        print()\n",
    "        print()\n",
    " \n",
    "print()\n",
    "\n",
    "\n",
    "# Cluster 0: apps google funny camera extensions useful chrome driving face facebook\n",
    "#\n",
    "# Cluster 1: world cup young champions crowned french men qatar fifa played\n",
    "\n",
    "## predicting the cluster of new docs\n",
    "new_doc = [\"how to install Chrome\"]\n",
    "Y = vectorizer.transform(new_doc)\n",
    "prediction = clustering_model.predict(Y)\n",
    "print(prediction)\n",
    "# [0]\n",
    "\n",
    "new_doc = [\"UCL Final match is played in Madrid this year\"]\n",
    "Y = vectorizer.transform(new_doc)\n",
    "prediction = clustering_model.predict(Y)\n",
    "print(prediction)\n",
    "# [1]"
   ]
  }
 ],
 "metadata": {
  "kernelspec": {
   "display_name": "Python 3",
   "language": "python",
   "name": "python3"
  },
  "language_info": {
   "codemirror_mode": {
    "name": "ipython",
    "version": 3
   },
   "file_extension": ".py",
   "mimetype": "text/x-python",
   "name": "python",
   "nbconvert_exporter": "python",
   "pygments_lexer": "ipython3",
   "version": "3.8.8"
  }
 },
 "nbformat": 4,
 "nbformat_minor": 5
}
