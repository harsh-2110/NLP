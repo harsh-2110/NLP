{
 "cells": [
  {
   "cell_type": "code",
   "execution_count": 2,
   "id": "5e7b23ee",
   "metadata": {},
   "outputs": [],
   "source": [
    "import re"
   ]
  },
  {
   "cell_type": "code",
   "execution_count": 4,
   "id": "b17b794e",
   "metadata": {},
   "outputs": [],
   "source": [
    "def N_Grams(text,n): \n",
    "    # split sentences into tokens\n",
    "    tokens=re.split(\"\\\\s+\",text)\n",
    "    ngrams=[] \n",
    "    # collect the n-grams\n",
    "    for i in range(len(tokens)-n+1):\n",
    "     temp=[tokens[j] for j in range(i,i+n)]\n",
    "     ngrams.append(\" \".join(temp)) \n",
    "    return ngrams"
   ]
  },
  {
   "cell_type": "code",
   "execution_count": 6,
   "id": "39005d31",
   "metadata": {},
   "outputs": [],
   "source": [
    "text1=\"the way i am happy you came\";"
   ]
  },
  {
   "cell_type": "code",
   "execution_count": 8,
   "id": "9d0c3ff8",
   "metadata": {},
   "outputs": [
    {
     "data": {
      "text/plain": [
       "['the', 'way', 'i', 'am', 'happy', 'you', 'came']"
      ]
     },
     "execution_count": 8,
     "metadata": {},
     "output_type": "execute_result"
    }
   ],
   "source": [
    "N_Grams(text1,1)"
   ]
  },
  {
   "cell_type": "code",
   "execution_count": 10,
   "id": "4480c3b3",
   "metadata": {},
   "outputs": [
    {
     "data": {
      "text/plain": [
       "['the way', 'way i', 'i am', 'am happy', 'happy you', 'you came']"
      ]
     },
     "execution_count": 10,
     "metadata": {},
     "output_type": "execute_result"
    }
   ],
   "source": [
    "N_Grams(text1,2)"
   ]
  },
  {
   "cell_type": "code",
   "execution_count": 11,
   "id": "126da1b0",
   "metadata": {},
   "outputs": [
    {
     "data": {
      "text/plain": [
       "['the way i', 'way i am', 'i am happy', 'am happy you', 'happy you came']"
      ]
     },
     "execution_count": 11,
     "metadata": {},
     "output_type": "execute_result"
    }
   ],
   "source": [
    "N_Grams(text1,3)"
   ]
  }
 ],
 "metadata": {
  "kernelspec": {
   "display_name": "Python 3",
   "language": "python",
   "name": "python3"
  },
  "language_info": {
   "codemirror_mode": {
    "name": "ipython",
    "version": 3
   },
   "file_extension": ".py",
   "mimetype": "text/x-python",
   "name": "python",
   "nbconvert_exporter": "python",
   "pygments_lexer": "ipython3",
   "version": "3.8.8"
  }
 },
 "nbformat": 4,
 "nbformat_minor": 5
}
